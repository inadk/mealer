{
 "cells": [
  {
   "cell_type": "code",
   "execution_count": 1,
   "metadata": {},
   "outputs": [],
   "source": [
    "import pandas as pd"
   ]
  },
  {
   "cell_type": "code",
   "execution_count": 2,
   "metadata": {},
   "outputs": [
    {
     "data": {
      "text/html": [
       "<div>\n",
       "<style scoped>\n",
       "    .dataframe tbody tr th:only-of-type {\n",
       "        vertical-align: middle;\n",
       "    }\n",
       "\n",
       "    .dataframe tbody tr th {\n",
       "        vertical-align: top;\n",
       "    }\n",
       "\n",
       "    .dataframe thead th {\n",
       "        text-align: right;\n",
       "    }\n",
       "</style>\n",
       "<table border=\"1\" class=\"dataframe\">\n",
       "  <thead>\n",
       "    <tr style=\"text-align: right;\">\n",
       "      <th></th>\n",
       "      <th>Product</th>\n",
       "      <th>Regular price</th>\n",
       "      <th>Sale price</th>\n",
       "      <th>Category_1</th>\n",
       "      <th>Category_2</th>\n",
       "      <th>Category_3</th>\n",
       "      <th>Category_4</th>\n",
       "      <th>Category_5</th>\n",
       "      <th>Category_6</th>\n",
       "      <th>Energy (kcal)</th>\n",
       "      <th>Carbohydrates</th>\n",
       "      <th>Sugars</th>\n",
       "      <th>Added sugars</th>\n",
       "      <th>Fats</th>\n",
       "      <th>Saturated fats</th>\n",
       "      <th>Unsaturated fats</th>\n",
       "      <th>Protein</th>\n",
       "      <th>Fiber</th>\n",
       "      <th>Salt</th>\n",
       "    </tr>\n",
       "  </thead>\n",
       "  <tbody>\n",
       "    <tr>\n",
       "      <th>0</th>\n",
       "      <td>AH Franse baguettes</td>\n",
       "      <td>0.75</td>\n",
       "      <td>NaN</td>\n",
       "      <td>Bakkerij</td>\n",
       "      <td>Afbakbrood</td>\n",
       "      <td>Stokbrood en ciabatta</td>\n",
       "      <td>NaN</td>\n",
       "      <td>NaN</td>\n",
       "      <td>NaN</td>\n",
       "      <td>241.0</td>\n",
       "      <td>50.0</td>\n",
       "      <td>3.3</td>\n",
       "      <td>NaN</td>\n",
       "      <td>1.0</td>\n",
       "      <td>0.2</td>\n",
       "      <td>0.8</td>\n",
       "      <td>7.2</td>\n",
       "      <td>1.7</td>\n",
       "      <td>0.90</td>\n",
       "    </tr>\n",
       "    <tr>\n",
       "      <th>1</th>\n",
       "      <td>Lea &amp; Perrins Worcestershire saus</td>\n",
       "      <td>2.09</td>\n",
       "      <td>NaN</td>\n",
       "      <td>Soepen, sauzen, kruiden, olie</td>\n",
       "      <td>Smaakmakers</td>\n",
       "      <td>Tafelsauzen, toevoegingen</td>\n",
       "      <td>Worcester sauce</td>\n",
       "      <td>NaN</td>\n",
       "      <td>NaN</td>\n",
       "      <td>96.0</td>\n",
       "      <td>21.0</td>\n",
       "      <td>19.0</td>\n",
       "      <td>NaN</td>\n",
       "      <td>0.9</td>\n",
       "      <td>0.4</td>\n",
       "      <td>NaN</td>\n",
       "      <td>0.8</td>\n",
       "      <td>NaN</td>\n",
       "      <td>2.90</td>\n",
       "    </tr>\n",
       "    <tr>\n",
       "      <th>2</th>\n",
       "      <td>AH Aardappelballetjes</td>\n",
       "      <td>1.89</td>\n",
       "      <td>NaN</td>\n",
       "      <td>Diepvries</td>\n",
       "      <td>Diepvries aardappelproducten</td>\n",
       "      <td>Aardappelballetjes</td>\n",
       "      <td>NaN</td>\n",
       "      <td>NaN</td>\n",
       "      <td>NaN</td>\n",
       "      <td>137.0</td>\n",
       "      <td>21.0</td>\n",
       "      <td>0.7</td>\n",
       "      <td>NaN</td>\n",
       "      <td>4.4</td>\n",
       "      <td>0.5</td>\n",
       "      <td>3.9</td>\n",
       "      <td>2.2</td>\n",
       "      <td>2.2</td>\n",
       "      <td>0.70</td>\n",
       "    </tr>\n",
       "    <tr>\n",
       "      <th>3</th>\n",
       "      <td>Campina Halfvolle yoghurt vanillesmaak</td>\n",
       "      <td>1.79</td>\n",
       "      <td>NaN</td>\n",
       "      <td>Zuivel, eieren, boter</td>\n",
       "      <td>Yoghurt en kwark</td>\n",
       "      <td>Yoghurt</td>\n",
       "      <td>Yoghurt met smaak</td>\n",
       "      <td>Vanille yoghurt</td>\n",
       "      <td>NaN</td>\n",
       "      <td>78.0</td>\n",
       "      <td>12.2</td>\n",
       "      <td>11.0</td>\n",
       "      <td>NaN</td>\n",
       "      <td>1.6</td>\n",
       "      <td>1.1</td>\n",
       "      <td>NaN</td>\n",
       "      <td>3.1</td>\n",
       "      <td>NaN</td>\n",
       "      <td>0.11</td>\n",
       "    </tr>\n",
       "    <tr>\n",
       "      <th>4</th>\n",
       "      <td>AH Galia meloen</td>\n",
       "      <td>2.49</td>\n",
       "      <td>NaN</td>\n",
       "      <td>Aardappel, groente, fruit</td>\n",
       "      <td>Fruit</td>\n",
       "      <td>Meloen, kokosnoot</td>\n",
       "      <td>Meloenen</td>\n",
       "      <td>Galia meloen</td>\n",
       "      <td>NaN</td>\n",
       "      <td>NaN</td>\n",
       "      <td>NaN</td>\n",
       "      <td>NaN</td>\n",
       "      <td>NaN</td>\n",
       "      <td>NaN</td>\n",
       "      <td>NaN</td>\n",
       "      <td>NaN</td>\n",
       "      <td>NaN</td>\n",
       "      <td>NaN</td>\n",
       "      <td>NaN</td>\n",
       "    </tr>\n",
       "  </tbody>\n",
       "</table>\n",
       "</div>"
      ],
      "text/plain": [
       "                                  Product  Regular price  Sale price  \\\n",
       "0                     AH Franse baguettes           0.75         NaN   \n",
       "1       Lea & Perrins Worcestershire saus           2.09         NaN   \n",
       "2                   AH Aardappelballetjes           1.89         NaN   \n",
       "3  Campina Halfvolle yoghurt vanillesmaak           1.79         NaN   \n",
       "4                         AH Galia meloen           2.49         NaN   \n",
       "\n",
       "                      Category_1                    Category_2  \\\n",
       "0                       Bakkerij                    Afbakbrood   \n",
       "1  Soepen, sauzen, kruiden, olie                   Smaakmakers   \n",
       "2                      Diepvries  Diepvries aardappelproducten   \n",
       "3          Zuivel, eieren, boter              Yoghurt en kwark   \n",
       "4      Aardappel, groente, fruit                         Fruit   \n",
       "\n",
       "                  Category_3         Category_4       Category_5 Category_6  \\\n",
       "0      Stokbrood en ciabatta                NaN              NaN        NaN   \n",
       "1  Tafelsauzen, toevoegingen    Worcester sauce              NaN        NaN   \n",
       "2         Aardappelballetjes                NaN              NaN        NaN   \n",
       "3                    Yoghurt  Yoghurt met smaak  Vanille yoghurt        NaN   \n",
       "4          Meloen, kokosnoot           Meloenen     Galia meloen        NaN   \n",
       "\n",
       "   Energy (kcal)  Carbohydrates  Sugars  Added sugars  Fats  Saturated fats  \\\n",
       "0          241.0           50.0     3.3           NaN   1.0             0.2   \n",
       "1           96.0           21.0    19.0           NaN   0.9             0.4   \n",
       "2          137.0           21.0     0.7           NaN   4.4             0.5   \n",
       "3           78.0           12.2    11.0           NaN   1.6             1.1   \n",
       "4            NaN            NaN     NaN           NaN   NaN             NaN   \n",
       "\n",
       "   Unsaturated fats  Protein  Fiber  Salt  \n",
       "0               0.8      7.2    1.7  0.90  \n",
       "1               NaN      0.8    NaN  2.90  \n",
       "2               3.9      2.2    2.2  0.70  \n",
       "3               NaN      3.1    NaN  0.11  \n",
       "4               NaN      NaN    NaN   NaN  "
      ]
     },
     "execution_count": 2,
     "metadata": {},
     "output_type": "execute_result"
    }
   ],
   "source": [
    "file_path = 'ah_data.csv'\n",
    "df = pd.read_csv(file_path, delimiter=',', encoding='ISO-8859-1')\n",
    "df.head()"
   ]
  },
  {
   "cell_type": "code",
   "execution_count": 3,
   "metadata": {},
   "outputs": [
    {
     "data": {
      "text/plain": [
       "Product              1.162791\n",
       "Regular price        2.508732\n",
       "Sale price          94.671607\n",
       "Category_1           5.370986\n",
       "Category_2           5.396541\n",
       "Category_3           8.697504\n",
       "Category_4          39.624329\n",
       "Category_5          85.692989\n",
       "Category_6          99.403697\n",
       "Energy (kcal)       41.093790\n",
       "Carbohydrates       41.255644\n",
       "Sugars              42.022319\n",
       "Added sugars        99.923332\n",
       "Fats                41.285459\n",
       "Saturated fats      41.366386\n",
       "Unsaturated fats    77.843087\n",
       "Protein             41.247125\n",
       "Fiber               59.668626\n",
       "Salt                41.562314\n",
       "dtype: float64"
      ]
     },
     "execution_count": 3,
     "metadata": {},
     "output_type": "execute_result"
    }
   ],
   "source": [
    "# ratio of nans per column\n",
    "df.isna().sum()/len(df)*100"
   ]
  },
  {
   "cell_type": "code",
   "execution_count": 4,
   "metadata": {},
   "outputs": [
    {
     "data": {
      "text/plain": [
       "array(['Bakkerij', 'Soepen, sauzen, kruiden, olie', 'Diepvries',\n",
       "       'Zuivel, eieren, boter', 'Aardappel, groente, fruit',\n",
       "       'Koffie, thee', 'Ontbijtgranen en beleg', 'Wijn en bubbels',\n",
       "       'Koken, tafelen, vrije tijd', 'Huisdier', 'Bier en aperitieven',\n",
       "       'Frisdrank, sappen, siropen, water', 'Huishouden', 'Drogisterij',\n",
       "       'Vlees, vis', 'Pasta, rijst en wereldkeuken',\n",
       "       'Salades, pizza, maaltijden', 'Snoep, chocolade, koek',\n",
       "       'Chips, noten, toast, popcorn', 'Kaas, vleeswaren, tapas', nan,\n",
       "       'Baby en kind', 'Vegetarisch, vegan en plantaardig', 'Gezondheid',\n",
       "       'Tussendoortjes', 'Glutenvrij'], dtype=object)"
      ]
     },
     "execution_count": 4,
     "metadata": {},
     "output_type": "execute_result"
    }
   ],
   "source": [
    "df['Category_1'].unique()"
   ]
  },
  {
   "cell_type": "code",
   "execution_count": 5,
   "metadata": {},
   "outputs": [],
   "source": [
    "edible_categories = ['Bakkerij', 'Soepen, sauzen, kruiden, olie', 'Diepvries', 'Zuivel, eieren, boter', 'Aardappel, groente, fruit', 'Koffie, thee', 'Ontbijtgranen en beleg', 'Wijn en bubbels', 'Bier en aperitieven', 'Frisdrank, sappen, siropen, water', 'Vlees, vis', 'Pasta, rijst en wereldkeuken', 'Salades, pizza, maaltijden', 'Snoep, chocolade, koek', 'Chips, noten, toast, popcorn', 'Kaas, vleeswaren, tapas', 'Vegetarisch, vegan en plantaardig', 'Glutenvrij']\n",
    "df_food = df[df['Category_1'].isin(edible_categories)]"
   ]
  },
  {
   "cell_type": "code",
   "execution_count": 6,
   "metadata": {},
   "outputs": [
    {
     "data": {
      "text/plain": [
       "Product              0.000000\n",
       "Regular price        0.019376\n",
       "Sale price          93.651101\n",
       "Category_1           0.000000\n",
       "Category_2           0.032293\n",
       "Category_3           3.119550\n",
       "Category_4          38.629465\n",
       "Category_5          86.320481\n",
       "Category_6          99.509139\n",
       "Energy (kcal)       18.174772\n",
       "Carbohydrates       18.381451\n",
       "Sugars              19.511723\n",
       "Added sugars        99.928954\n",
       "Fats                18.484790\n",
       "Saturated fats      18.549377\n",
       "Unsaturated fats    68.068204\n",
       "Protein             18.433120\n",
       "Fiber               45.068785\n",
       "Salt                18.691468\n",
       "dtype: float64"
      ]
     },
     "execution_count": 6,
     "metadata": {},
     "output_type": "execute_result"
    }
   ],
   "source": [
    "df_food.isna().sum()/len(df_food)*100"
   ]
  },
  {
   "cell_type": "code",
   "execution_count": 8,
   "metadata": {},
   "outputs": [
    {
     "data": {
      "text/plain": [
       "Category_1\n",
       "Wijn en bubbels                      76.157205\n",
       "Koffie, thee                         64.394993\n",
       "Bier en aperitieven                  50.380518\n",
       "Frisdrank, sappen, siropen, water    18.356643\n",
       "Aardappel, groente, fruit            18.143460\n",
       "Soepen, sauzen, kruiden, olie        15.192744\n",
       "Zuivel, eieren, boter                12.225705\n",
       "Vlees, vis                            9.122807\n",
       "Kaas, vleeswaren, tapas               5.515832\n",
       "Bakkerij                              5.298913\n",
       "Chips, noten, toast, popcorn          4.928458\n",
       "Salades, pizza, maaltijden            4.807692\n",
       "Pasta, rijst en wereldkeuken          4.502370\n",
       "Ontbijtgranen en beleg                3.940887\n",
       "Diepvries                             3.533026\n",
       "Snoep, chocolade, koek                3.506209\n",
       "Vegetarisch, vegan en plantaardig     3.440367\n",
       "Glutenvrij                            0.000000\n",
       "Name: Energy (kcal), dtype: float64"
      ]
     },
     "execution_count": 8,
     "metadata": {},
     "output_type": "execute_result"
    }
   ],
   "source": [
    "# determine which categories in Category_1 have the most nans in 'Energy (kcal)' column on average\n",
    "df_food.groupby('Category_1')['Energy (kcal)'].apply(lambda x: x.isna().sum()/len(x)*100).sort_values(ascending=False)"
   ]
  }
 ],
 "metadata": {
  "kernelspec": {
   "display_name": "Python 3",
   "language": "python",
   "name": "python3"
  },
  "language_info": {
   "codemirror_mode": {
    "name": "ipython",
    "version": 3
   },
   "file_extension": ".py",
   "mimetype": "text/x-python",
   "name": "python",
   "nbconvert_exporter": "python",
   "pygments_lexer": "ipython3",
   "version": "3.12.3"
  }
 },
 "nbformat": 4,
 "nbformat_minor": 2
}
